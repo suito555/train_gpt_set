{
 "cells": [
  {
   "cell_type": "code",
   "execution_count": null,
   "id": "08070eef-373d-47db-9736-4c567b3eeac2",
   "metadata": {},
   "outputs": [],
   "source": [
    "from tokenizers.implementations import SentencePieceUnigramTokenizer\n",
    "from transformers import PreTrainedTokenizerFast\n",
    "spm_folder = \"./sentencepiece/\"\n",
    "spm_model_path = spm_folder + \"sentencepiece_test.model\"\n",
    "spm_tokenizer = SentencePieceUnigramTokenizer.from_spm(spm_model_path)\n",
    "spm_tokenizer.save(spm_folder + 'spm_tokenizer.json') \n",
    "#saveした後に \"prepend_scheme\": \"never\"に二箇所変更(文頭にspaceが初期設定だと入る)"
   ]
  },
  {
   "cell_type": "code",
   "execution_count": null,
   "id": "af32ee48-d376-4f5a-a0d5-5a41f49250a4",
   "metadata": {},
   "outputs": [],
   "source": [
    "tokenizer = PreTrainedTokenizerFast(tokenizer_file = spm_folder + \"spm_tokenizer.json\")\n",
    "print(tokenizer.encode(\"[NL]\"),tokenizer.vocab_size)#先頭にspaceが無いか確認"
   ]
  }
 ],
 "metadata": {
  "kernelspec": {
   "display_name": "Python 3 (ipykernel)",
   "language": "python",
   "name": "python3"
  },
  "language_info": {
   "codemirror_mode": {
    "name": "ipython",
    "version": 3
   },
   "file_extension": ".py",
   "mimetype": "text/x-python",
   "name": "python",
   "nbconvert_exporter": "python",
   "pygments_lexer": "ipython3",
   "version": "3.10.12"
  }
 },
 "nbformat": 4,
 "nbformat_minor": 5
}
