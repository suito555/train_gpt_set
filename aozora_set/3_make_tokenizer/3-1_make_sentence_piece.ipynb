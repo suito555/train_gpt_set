{
 "cells": [
  {
   "cell_type": "code",
   "execution_count": null,
   "id": "e6e1d299-b559-459f-b4ab-44888de156f5",
   "metadata": {},
   "outputs": [],
   "source": [
    "import os\n",
    "dir_name=\"sentencepiece\"\n",
    "os.mkdir(dir_name)"
   ]
  },
  {
   "cell_type": "code",
   "execution_count": null,
   "id": "ac35b063-c9e6-42a6-9c5b-f7d0c19f4f04",
   "metadata": {},
   "outputs": [],
   "source": [
    "import sentencepiece as spm\n",
    "import time\n",
    "proc_text_file=\"nl_list_aozora.txt\"\n",
    "sen_model_name=dir_name+\"/sentencepiece_test\"\n",
    "\n",
    "my_symbols=[\n",
    "    '[BOS]','[EOS]','[USER]','[AI]','[NL]','[NL2]',#この段階では[PAD]を追加しなくても良い  \n",
    "]\n",
    "stime = time.perf_counter()\n",
    "spm.SentencePieceTrainer.Train(\n",
    "    input=\"../2_str_processor/\"+proc_text_file,\n",
    "    model_prefix=sen_model_name,\n",
    "    vocab_size=20000,\n",
    "    character_coverage=0.99995,\n",
    "    user_defined_symbols=my_symbols,\n",
    "    train_extremely_large_corpus=True,\n",
    ")\n",
    "etime = time.perf_counter()\n",
    "print(etime - stime)"
   ]
  }
 ],
 "metadata": {
  "kernelspec": {
   "display_name": "Python 3 (ipykernel)",
   "language": "python",
   "name": "python3"
  },
  "language_info": {
   "codemirror_mode": {
    "name": "ipython",
    "version": 3
   },
   "file_extension": ".py",
   "mimetype": "text/x-python",
   "name": "python",
   "nbconvert_exporter": "python",
   "pygments_lexer": "ipython3",
   "version": "3.10.12"
  }
 },
 "nbformat": 4,
 "nbformat_minor": 5
}
