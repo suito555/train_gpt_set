{
 "cells": [
  {
   "cell_type": "code",
   "execution_count": null,
   "id": "201c9e98-455e-48e8-8316-373a5cb86fcb",
   "metadata": {},
   "outputs": [],
   "source": [
    "import csv\n",
    "csv_path=\"raw_aozora/list_person_all_extended_utf8.csv\"\n",
    "with open(csv_path,'r',encoding='UTF-8') as f:\n",
    "    reader = csv.reader(f)\n",
    "    csv_list=[row for row in reader]"
   ]
  },
  {
   "cell_type": "code",
   "execution_count": null,
   "id": "029d996b-718d-4a3d-8d2a-bb851b77f6f9",
   "metadata": {},
   "outputs": [],
   "source": [
    "#auther_idとnovel_idの辞書を作成(一対多)\n",
    "#辞書の使い勝手が良いので一度辞書にしている。\n",
    "auther_id_and_novel_id_dict={}\n",
    "for csv_attr in csv_list[:]:\n",
    "    if csv_attr[9]==\"新字新仮名\":#'文字遣い種別'\n",
    "        if csv_attr[10]==\"なし\":#'作品著作権フラグ'\n",
    "            auther_id=csv_attr[14]#人物ID\n",
    "            novel_id=str(int(csv_attr[0]))#小説ID先頭の0を消しておく\n",
    "            auther_id_and_novel_id_dict.setdefault(auther_id, []).append(novel_id)\n",
    "print('end')"
   ]
  },
  {
   "cell_type": "code",
   "execution_count": null,
   "id": "1616eac2-0693-4081-a66a-7b85f4d25860",
   "metadata": {},
   "outputs": [],
   "source": [
    "#auther_and_novel_dictをauther_id_listとnovel_id_listに分割\n",
    "#リストは小説名などに用いやすい。\n",
    "auther_id_list=[]\n",
    "novel_id_list=[]\n",
    "for auther_id in auther_id_and_novel_id_dict:\n",
    "    auther_id_list.append(auther_id)\n",
    "    novel_id_list.append(sorted(auther_id_and_novel_id_dict[auther_id]))"
   ]
  },
  {
   "cell_type": "code",
   "execution_count": null,
   "id": "ff69925e-ff14-46c8-aaeb-6fc76ada0d16",
   "metadata": {},
   "outputs": [],
   "source": [
    "#青空文庫のcardの中から本文を含むファイルのパスをリストに入れる\n",
    "#参考 https://serenard.hatenablog.com/entry/2019/04/07/164337\n",
    "import glob\n",
    "cards_path=\"raw_aozora/aozorabunko/cards\"\n",
    "novel_html_paths=[]\n",
    "for enr,auther_id in enumerate(auther_id_list[:]):\n",
    "    for novel_id in novel_id_list[enr]:\n",
    "        novel_html_path = glob.glob(f'{cards_path}/{auther_id}/files/{novel_id}_*.html')\n",
    "        novel_html_paths.append(novel_html_path)"
   ]
  },
  {
   "cell_type": "code",
   "execution_count": null,
   "id": "170559b0-3fca-4fed-abbc-01471dd7bf24",
   "metadata": {},
   "outputs": [],
   "source": [
    "from bs4 import BeautifulSoup as soup\n",
    "#ファイルパスを用いてローカルでbs4でのスクレイピングを行う\n",
    "sav_p=0 #値変更で途中から開始可能\n",
    "all_novel_text=\"\"\n",
    "for enr,novel_html_path in enumerate(novel_html_paths[sav_p:],sav_p):\n",
    "    if novel_html_path==[]:#htmlが無いものは省く。現在作業中のものは無いようだ。\n",
    "        continue\n",
    "    with open(novel_html_path[0],'r',encoding='shift-jis') as f:\n",
    "        try:\n",
    "            novel_page_html = f.read()\n",
    "        except UnicodeDecodeError:#エラーの性質上、扱いにくいのでskip。\n",
    "            continue\n",
    "    novel_soup = soup(novel_page_html,'html.parser')\n",
    "    for rt in novel_soup('rt'):#ルビ削除\n",
    "        rt.decompose()\n",
    "    for rp in novel_soup('rp'):#ルビ削除\n",
    "        rp.decompose()\n",
    "    novel_content = novel_soup.find('div', class_='main_text')\n",
    "    if novel_content is not None:\n",
    "        all_novel_text+=novel_content.text\n",
    "    if enr%1000==0:\n",
    "        print(enr)\n",
    "print(enr,'end')"
   ]
  },
  {
   "cell_type": "code",
   "execution_count": null,
   "id": "1dd5d0a7-edd6-4dbb-bf8b-f15c8b0031a4",
   "metadata": {},
   "outputs": [],
   "source": [
    "#shift-jisで一度保存する\n",
    "with open(\"aozora_main_shift_jis.txt\",'w',encoding='shift-jis') as f:\n",
    "    f.write(all_novel_text)"
   ]
  },
  {
   "cell_type": "code",
   "execution_count": null,
   "id": "e15c9d85-4596-4a3c-8522-17422dc39cb6",
   "metadata": {},
   "outputs": [],
   "source": [
    "#utf-8のもので作り直す\n",
    "import codecs\n",
    "with codecs.open('aozora_main_shift_jis.txt', 'r', encoding='shift-jis')as f:\n",
    "    read_shift_jis=f.read()\n",
    "with codecs.open('aozora_main_utf8.txt', 'w', encoding='utf-8')as f:\n",
    "    f.write(read_shift_jis)"
   ]
  }
 ],
 "metadata": {
  "kernelspec": {
   "display_name": "Python 3 (ipykernel)",
   "language": "python",
   "name": "python3"
  },
  "language_info": {
   "codemirror_mode": {
    "name": "ipython",
    "version": 3
   },
   "file_extension": ".py",
   "mimetype": "text/x-python",
   "name": "python",
   "nbconvert_exporter": "python",
   "pygments_lexer": "ipython3",
   "version": "3.10.12"
  }
 },
 "nbformat": 4,
 "nbformat_minor": 5
}
