{
 "cells": [
  {
   "cell_type": "code",
   "execution_count": null,
   "id": "8c3572d0-75a3-4528-ae14-17487ea12765",
   "metadata": {},
   "outputs": [],
   "source": [
    "%mkdir raw_aozora\n",
    "%cd raw_aozora\n",
    "!git clone https://github.com/aozorabunko/aozorabunko\n",
    "%cd ../"
   ]
  },
  {
   "cell_type": "code",
   "execution_count": null,
   "id": "b88799c2-df35-400d-b04b-040e93572dc2",
   "metadata": {},
   "outputs": [],
   "source": [
    "%cd raw_aozora\n",
    "%cp aozorabunko/index_pages/list_person_all_extended_utf8.zip list_person_all_extended_utf8.zip \n",
    "!unzip list_person_all_extended_utf8.zip \n",
    "%cd ../"
   ]
  }
 ],
 "metadata": {
  "kernelspec": {
   "display_name": "Python 3 (ipykernel)",
   "language": "python",
   "name": "python3"
  },
  "language_info": {
   "codemirror_mode": {
    "name": "ipython",
    "version": 3
   },
   "file_extension": ".py",
   "mimetype": "text/x-python",
   "name": "python",
   "nbconvert_exporter": "python",
   "pygments_lexer": "ipython3",
   "version": "3.10.12"
  }
 },
 "nbformat": 4,
 "nbformat_minor": 5
}
