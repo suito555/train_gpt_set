{
 "cells": [
  {
   "cell_type": "code",
   "execution_count": null,
   "id": "33069f88-7370-4e1f-b2a4-5ead59c60d4f",
   "metadata": {},
   "outputs": [],
   "source": [
    "with open('../1_download_text/aozora_main_utf8.txt', 'r', encoding='utf-8')as f:\n",
    "    read_text=f.read()\n",
    "len(read_text)"
   ]
  },
  {
   "cell_type": "code",
   "execution_count": null,
   "id": "4dbe0e15-baed-49aa-81d5-9e510f71b449",
   "metadata": {},
   "outputs": [],
   "source": [
    "from str_processor import normalize_neologd\n",
    "norm_text=normalize_neologd(read_text)\n",
    "print(len(norm_text))\n",
    "print('norm end')"
   ]
  },
  {
   "cell_type": "code",
   "execution_count": null,
   "id": "b0d49624-34bf-41d1-a78e-7708066ce395",
   "metadata": {},
   "outputs": [],
   "source": [
    "#datasetsライブラリを使うにあたって改行を一定の感覚で入れる必要がある。\n",
    "#以下のコードは文末の文字により文章を区切るためのもの。やや強引な処理ではあるが、\n",
    "#条件に当てはまらないデータは質が悪いので除外して問題ない。\n",
    "len_proc_list=[]\n",
    "buf_str=\"\"\n",
    "for nchar in norm_text:\n",
    "    if len(buf_str)>=900:#200文字連続で句読点等がない\n",
    "        if buf_str[-1] in ['\\n', '。', '」', '、','.']:\n",
    "            buf_str=\"\"#除外\n",
    "    if len(buf_str)>=700:\n",
    "        if buf_str[-1] in ['\\n', '。', '」']:\n",
    "            len_proc_list.append(buf_str)\n",
    "            buf_str=\"\"\n",
    "    buf_str+=nchar\n",
    "len(len_proc_list)"
   ]
  },
  {
   "cell_type": "code",
   "execution_count": null,
   "id": "25a23a2f-222d-4679-94c7-f08d82fe3aa7",
   "metadata": {},
   "outputs": [],
   "source": [
    "#ひらがなの割合が極端に少ない文章は質が悪いため除外\n",
    "import re\n",
    "def hiragana_ratio(text):\n",
    "    hiragana = re.compile('[ぁ-ゖ]')\n",
    "    cnt=0\n",
    "    for t in text:\n",
    "        if hiragana.fullmatch(t):\n",
    "            cnt+=1\n",
    "    return cnt/len(text)\n",
    "\n",
    "hira_proc_list=[]\n",
    "for lp_str in len_proc_list:\n",
    "    if 0.35<=hiragana_ratio(lp_str):\n",
    "        hira_proc_list.append(lp_str)\n",
    "len(hira_proc_list)"
   ]
  },
  {
   "cell_type": "code",
   "execution_count": null,
   "id": "ce2fb5e5-494f-4b13-8a09-19c6b946e29f",
   "metadata": {},
   "outputs": [],
   "source": [
    "#SentencePiece用に改行を変換\n",
    "nl_list=[]\n",
    "for hp_str in hira_proc_list:\n",
    "    nl2_str = re.sub(\"((\\n|\\r){2,})\", \"[NL2+]\", hp_str)\n",
    "    nl_str = nl2_str.replace('\\n','[NL]')\n",
    "    nl_list.append(nl_str+'\\n')\n",
    "len(nl_list)"
   ]
  },
  {
   "cell_type": "code",
   "execution_count": null,
   "id": "5645aed0-df6f-4918-8bf1-48f31242fa4b",
   "metadata": {},
   "outputs": [],
   "source": [
    "with open('nl_list_aozora.txt', 'w', encoding='utf-8')as f:\n",
    "    f.writelines(nl_list)"
   ]
  }
 ],
 "metadata": {
  "kernelspec": {
   "display_name": "Python 3 (ipykernel)",
   "language": "python",
   "name": "python3"
  },
  "language_info": {
   "codemirror_mode": {
    "name": "ipython",
    "version": 3
   },
   "file_extension": ".py",
   "mimetype": "text/x-python",
   "name": "python",
   "nbconvert_exporter": "python",
   "pygments_lexer": "ipython3",
   "version": "3.10.12"
  }
 },
 "nbformat": 4,
 "nbformat_minor": 5
}
