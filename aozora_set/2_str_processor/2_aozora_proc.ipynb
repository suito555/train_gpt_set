{
 "cells": [
  {
   "cell_type": "code",
   "execution_count": null,
   "id": "33069f88-7370-4e1f-b2a4-5ead59c60d4f",
   "metadata": {},
   "outputs": [],
   "source": [
    "with open('../1_download_text/aozora_main_utf8.txt', 'r', encoding='utf-8')as f:\n",
    "    read_text=f.read()\n",
    "len(read_text)"
   ]
  },
  {
   "cell_type": "code",
   "execution_count": null,
   "id": "4dbe0e15-baed-49aa-81d5-9e510f71b449",
   "metadata": {},
   "outputs": [],
   "source": [
    "from str_processor import normalize_neologd\n",
    "norm_text=normalize_neologd(read_text)\n",
    "print(len(norm_text))\n",
    "print('norm end')"
   ]
  },
  {
   "cell_type": "code",
   "execution_count": null,
   "id": "b0d49624-34bf-41d1-a78e-7708066ce395",
   "metadata": {},
   "outputs": [],
   "source": [
    "#Datasetライブラリを使うにあたって改行を一定の感覚で入れる必要がある。\n",
    "#以下のコードは文末の文字により文章を区切るためのもの。やや強引な処理ではあるが、\n",
    "#条件に当てはまらないデータは質が悪いので除外して問題ない。\n",
    "len_proc_list=[]\n",
    "buf_str=\"\"\n",
    "for nchar in norm_text:\n",
    "    if len(buf_str)>=900:\n",
    "        if buf_str[-1]=='、' or buf_str[-1]=='.':\n",
    "            buf_str=\"\"#除外\n",
    "    if len(buf_str)>=1100:\n",
    "        if (buf_str[-1]=='\\n' or buf_str[-1]=='。' or \n",
    "            buf_str[-1]=='」' or buf_str[-1]=='、' or \n",
    "            buf_str[-1]=='.'):\n",
    "            buf_str=\"\"#除外\n",
    "    if len(buf_str)>=700 and buf_str[-1]=='\\n':\n",
    "        len_proc_list.append(buf_str)\n",
    "        buf_str=\"\"\n",
    "    if len(buf_str)>=800 and buf_str[-1]=='。':\n",
    "        len_proc_list.append(buf_str)\n",
    "        buf_str=\"\"\n",
    "    if len(buf_str)>=800 and buf_str[-1]=='」':\n",
    "        len_proc_list.append(buf_str)\n",
    "        buf_str=\"\"\n",
    "    buf_str+=nchar\n",
    "\n",
    "len(len_proc_list)"
   ]
  },
  {
   "cell_type": "code",
   "execution_count": null,
   "id": "25a23a2f-222d-4679-94c7-f08d82fe3aa7",
   "metadata": {},
   "outputs": [],
   "source": [
    "#ひらがなの割合が極端に少ない文章は、質の悪い文章が多いので除外\n",
    "import re\n",
    "def hiragana_ratio(text):\n",
    "    hiragana = re.compile('[ぁ-ゖ]')\n",
    "    cnt=0\n",
    "    for x in text:\n",
    "        if hiragana.fullmatch(x):\n",
    "            cnt+=1\n",
    "    return cnt/len(text)\n",
    "\n",
    "hira_proc_list=[]\n",
    "for proc_str in len_proc_list:\n",
    "    if 0.35<=hiragana_ratio(proc_str):\n",
    "        hira_proc_list.append(proc_str)\n",
    "len(hira_proc_list)"
   ]
  },
  {
   "cell_type": "code",
   "execution_count": null,
   "id": "ce2fb5e5-494f-4b13-8a09-19c6b946e29f",
   "metadata": {},
   "outputs": [],
   "source": [
    "#改行を変換\n",
    "nl_list=[]\n",
    "for proc_str in hira_proc_list:\n",
    "    nl2_str = re.sub(\"((\\n|\\r){2,})\", \"[NL2+]\", proc_str)\n",
    "    nl_str = nl2_str.replace('\\n','[NL]')\n",
    "    nl_list.append(nl_str+'\\n')\n",
    "len(nl_list)"
   ]
  },
  {
   "cell_type": "code",
   "execution_count": null,
   "id": "5645aed0-df6f-4918-8bf1-48f31242fa4b",
   "metadata": {},
   "outputs": [],
   "source": [
    "with open('nl_list_aozora.txt', 'w', encoding='utf-8')as f:\n",
    "    f.writelines(nl_list)"
   ]
  }
 ],
 "metadata": {
  "kernelspec": {
   "display_name": "Python 3 (ipykernel)",
   "language": "python",
   "name": "python3"
  },
  "language_info": {
   "codemirror_mode": {
    "name": "ipython",
    "version": 3
   },
   "file_extension": ".py",
   "mimetype": "text/x-python",
   "name": "python",
   "nbconvert_exporter": "python",
   "pygments_lexer": "ipython3",
   "version": "3.10.12"
  }
 },
 "nbformat": 4,
 "nbformat_minor": 5
}
